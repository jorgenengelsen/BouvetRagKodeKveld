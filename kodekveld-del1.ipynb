{
 "cells": [
  {
   "cell_type": "code",
   "execution_count": null,
   "outputs": [],
   "source": [
    "query = \"Hva kan du om jerv i trøndelag?\""
   ],
   "metadata": {
    "collapsed": false
   },
   "id": "75ed46b9188da9f6"
  },
  {
   "cell_type": "code",
   "execution_count": null,
   "outputs": [],
   "source": [
    "import json\n",
    "from chain import vector_store\n",
    "\n",
    "vector_store.as_retriever(k=4).invoke(\"Jerv i snåsa\")"
   ],
   "metadata": {
    "collapsed": false
   },
   "id": "initial_id"
  },
  {
   "cell_type": "code",
   "execution_count": null,
   "outputs": [],
   "source": [
    "from chain import rag_chain\n",
    "\n",
    "rag_chain.invoke(query)"
   ],
   "metadata": {
    "collapsed": false
   },
   "id": "5f2589a523607195"
  },
  {
   "cell_type": "code",
   "execution_count": null,
   "outputs": [],
   "source": [
    "from chain import llm_chain\n",
    "\n",
    "llm_chain.invoke(query)"
   ],
   "metadata": {
    "collapsed": false
   },
   "id": "dc42cddf97fcc8b0"
  },
  {
   "cell_type": "code",
   "execution_count": null,
   "outputs": [],
   "source": [],
   "metadata": {
    "collapsed": false
   },
   "id": "7bfc97442afb8b12"
  }
 ],
 "metadata": {
  "kernelspec": {
   "display_name": "Python 3",
   "language": "python",
   "name": "python3"
  },
  "language_info": {
   "codemirror_mode": {
    "name": "ipython",
    "version": 2
   },
   "file_extension": ".py",
   "mimetype": "text/x-python",
   "name": "python",
   "nbconvert_exporter": "python",
   "pygments_lexer": "ipython2",
   "version": "2.7.6"
  }
 },
 "nbformat": 4,
 "nbformat_minor": 5
}
