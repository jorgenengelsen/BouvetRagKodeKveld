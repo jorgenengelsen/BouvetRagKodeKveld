{
 "cells": [
  {
   "cell_type": "markdown",
   "source": [
    "## AI agenter\n",
    "\n",
    "![img_1.png](images/img_1.png)"
   ],
   "metadata": {
    "collapsed": false
   },
   "id": "64b746019b3e3991"
  },
  {
   "cell_type": "code",
   "execution_count": null,
   "id": "initial_id",
   "metadata": {
    "collapsed": true
   },
   "outputs": [],
   "source": [
    "!curl https://www.klarna.com/us/shopping/public/openai/v0/api-docs/ -o openapi.yaml\n",
    "\n",
    "# You can try to replace this with your own openapi spec"
   ]
  },
  {
   "cell_type": "code",
   "execution_count": null,
   "outputs": [],
   "source": [
    "from langchain_community.agent_toolkits.openapi.spec import reduce_openapi_spec\n",
    "import yaml\n",
    "\n",
    "with open(\"openapi.yaml\") as f:\n",
    "    raw_openai_api_spec = yaml.load(f, Loader=yaml.Loader)\n",
    "klarna_api_spec = reduce_openapi_spec(raw_openai_api_spec)\n",
    "\n",
    "print(klarna_api_spec)"
   ],
   "metadata": {
    "collapsed": false
   },
   "id": "635e2e44581d36f0"
  },
  {
   "cell_type": "code",
   "execution_count": null,
   "outputs": [],
   "source": [
    "import os\n",
    "import dotenv\n",
    "\n",
    "dotenv.load_dotenv()\n",
    "\n",
    "from langchain_openai import AzureChatOpenAI\n",
    "\n",
    "if not os.getenv(\"AZURE_OPENAI_ENDPOINT\"):\n",
    "    raise ValueError(\"Please set the environment variable AZURE_OPENAI_ENDPOINT\")\n",
    "\n",
    "if not os.getenv(\"AZURE_OPENAI_API_KEY\"):\n",
    "    raise ValueError(\"Please set the environment variable AZURE_OPENAI_API_KEY\")\n",
    "\n",
    "if not os.getenv(\"AZURE_CHAT_DEPLOYMENT\"):\n",
    "    raise ValueError(\"Please set the environment variable AZURE_CHAT_DEPLOYMENT\")\n",
    "\n",
    "model = AzureChatOpenAI(\n",
    "    azure_deployment=os.environ[\"AZURE_CHAT_DEPLOYMENT\"],\n",
    "    api_version=\"2023-03-15-preview\"\n",
    ")"
   ],
   "metadata": {
    "collapsed": false
   },
   "id": "cc79ea91cf408ee5"
  },
  {
   "cell_type": "code",
   "execution_count": null,
   "outputs": [],
   "source": [
    "from langchain_community.agent_toolkits.openapi import planner\n",
    "from langchain.requests import RequestsWrapper\n",
    "\n",
    "\n",
    "api_agent = planner.create_openapi_agent(\n",
    "    api_spec=klarna_api_spec,\n",
    "    requests_wrapper=RequestsWrapper(), # headers = {\"Authorization\": f\"Bearer {Your API KEY}\"}\n",
    "    llm=model,\n",
    "    allow_dangerous_requests=True, # Trust me, nothing suspicious here\n",
    "    agent_executor_kwargs={\"handle_parsing_errors\": True}\n",
    ")"
   ],
   "metadata": {
    "collapsed": false
   },
   "id": "2c3bc3db10a6dc26"
  },
  {
   "cell_type": "code",
   "execution_count": null,
   "outputs": [],
   "source": [
    "from langchain_core.runnables import RunnableParallel, RunnablePassthrough\n",
    "from langchain_core.output_parsers import StrOutputParser\n",
    "from langchain_core.prompts import ChatPromptTemplate\n",
    "\n",
    "llm_template =\"\"\" Your role is to be a personal shopping assistant\n",
    "{\n",
    "    \"task\": \"helping a user find clothes based on {question}\",\n",
    "    \"items\": {context}\n",
    "}\n",
    "\"\"\"\n",
    "\n",
    "agent_chain = (\n",
    "        RunnableParallel({\"context\": api_agent, \"question\": RunnablePassthrough()})\n",
    "        | ChatPromptTemplate.from_template(llm_template)\n",
    "        | model\n",
    "        | StrOutputParser()\n",
    ")\n"
   ],
   "metadata": {
    "collapsed": false
   },
   "id": "28a77a345a2c1692"
  },
  {
   "cell_type": "code",
   "execution_count": null,
   "outputs": [],
   "source": [
    "print(agent_chain.invoke(\"It is hot out, i need some linen clothing for men in size medium, can you give me some options?\"))"
   ],
   "metadata": {
    "collapsed": false
   },
   "id": "f7ccd2a3477e03a6"
  },
  {
   "cell_type": "code",
   "execution_count": null,
   "outputs": [],
   "source": [],
   "metadata": {
    "collapsed": false
   },
   "id": "c42d7a5f5863a88a"
  }
 ],
 "metadata": {
  "kernelspec": {
   "display_name": "Python 3",
   "language": "python",
   "name": "python3"
  },
  "language_info": {
   "codemirror_mode": {
    "name": "ipython",
    "version": 2
   },
   "file_extension": ".py",
   "mimetype": "text/x-python",
   "name": "python",
   "nbconvert_exporter": "python",
   "pygments_lexer": "ipython2",
   "version": "2.7.6"
  }
 },
 "nbformat": 4,
 "nbformat_minor": 5
}
