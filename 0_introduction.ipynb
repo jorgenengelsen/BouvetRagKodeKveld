{
 "cells": [
  {
   "cell_type": "markdown",
   "id": "e423a9f0aa8de44f",
   "metadata": {
    "collapsed": false
   },
   "source": [
    "# Oppdag \"Fremtidens\" AI med RAG\n",
    "\n",
    "1. Intro LLMer og ChatGPT, status og begrensninger\n",
    "2. Hva er RAG?\n",
    "3. Teorien bak RAG\n",
    "4. Hvordan bruke RAG\n",
    "5. Kort om AI agenter"
   ]
  },
  {
   "cell_type": "markdown",
   "id": "8668bd5cf02554ac",
   "metadata": {
    "collapsed": false
   },
   "source": [
    "## Introduksjon til LLM og ChatGPT\n",
    "\n",
    "Large Language Models (LLMer) er maskinlæringsmodeller som er trent til å forstå og generere menneskelig språk.\n",
    "LLMer er trent til å lære seg statiske sammenhenger mellom ord og setninger i store mengder data.\n",
    "Disse modellene kan brukes til generativ AI ved å ta en input tekst (query) og predikere et ord avgangen for å genere en respons til brukeren.\n",
    "\n"
   ]
  },
  {
   "cell_type": "markdown",
   "id": "8143a6d9d41abb7c",
   "metadata": {
    "collapsed": false
   },
   "source": [
    "### ChatGPT\n",
    "\n",
    "ChatGPT er en spesifikk type LLM som er utviklet av OpenAI.\n",
    "Tidlige versjon håndterte kun tekst, men nyere versjon (f.eks 4o) er multi-modal, som betyr at de også kan tolke andre typer input som bilder og lyd. \n",
    "\n"
   ]
  },
  {
   "cell_type": "markdown",
   "id": "7557fc52b66d05",
   "metadata": {
    "collapsed": false,
    "jp-MarkdownHeadingCollapsed": true
   },
   "source": [
    "### Begrensninger med LLMer\n",
    "\n",
    "Selv om LLMer som ChatGPT er imponerende, har de noen begrensninger:\n",
    "- Enorme kostnader for trening. Mange millioner dollar og store mengder data er nødvendig for å trene en stor LLM. \n",
    "  - Gjør at modellene blir sjeldent oppdatert, og at det er vanskelig for mindre organisasjoner å trene egne modeller.\n",
    "- Hallusinasjoner. LLMer generer kun tekst basert på statistikk, og kan derfor generere tekst som er usann eller irrelevant.\n",
    "- Mangler adgang til intern, privat eller oppdatert data. \n",
    "  - LLMer er (stort sett) trent på offentlig tilgjengelig data, og kan derfor ikke generere tekst basert på sensitiv informasjon eller data som ikke er tilgjengelig på internett."
   ]
  },
  {
   "cell_type": "markdown",
   "id": "e921b602c95f805b",
   "metadata": {
    "collapsed": false
   },
   "source": [
    "## RAG: Retrieval-Augmented Generation\n",
    "\n",
    "En metdikk for å forbedre input til LLMer. RAG kombinerer en LLM med en søkemotor som kan hente data fra en database.\n",
    "\n",
    "Analogi: RAG er som å ta eksamen med åpne bøker. Gitt at du har tatt med rett bøker.\n",
    "\n",
    "Siden jeg startet å bruke chatGPT har jeg manuelt kopiert relevante kodesnutter inn i prompten. \n",
    "\n",
    "RAG Arkitektur (Courtesy of [NVIDIA](https://blogs.nvidia.com/blog/what-is-retrieval-augmented-generation/))\n",
    "![img.png](images/img.png)\n",
    "\n"
   ]
  },
  {
   "cell_type": "code",
   "execution_count": null,
   "id": "30bbbd59fdd50096",
   "metadata": {
    "collapsed": false
   },
   "outputs": [],
   "source": []
  }
 ],
 "metadata": {
  "kernelspec": {
   "display_name": "Python 3 (ipykernel)",
   "language": "python",
   "name": "python3"
  },
  "language_info": {
   "codemirror_mode": {
    "name": "ipython",
    "version": 3
   },
   "file_extension": ".py",
   "mimetype": "text/x-python",
   "name": "python",
   "nbconvert_exporter": "python",
   "pygments_lexer": "ipython3",
   "version": "3.12.1"
  }
 },
 "nbformat": 4,
 "nbformat_minor": 5
}
