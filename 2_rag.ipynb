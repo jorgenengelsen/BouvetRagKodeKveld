{
 "cells": [
  {
   "cell_type": "markdown",
   "source": [
    "# RAG using langchain and Azure AI\n",
    "\n",
    "In this example we will use langchain and Azure AI to implement a retriver (as we created in the previous task).\n",
    "\n",
    "LangChain is an open source framework for building applications based on large language models (LLMs). LangChain provides tools and abstractions to improve the customization, accuracy, and relevancy of the information the models generate. For example, developers can use LangChain components to build new prompt chains or customize existing templates. LangChain also includes components that allow LLMs to access new data sets without retraining.\n",
    "\n",
    "Azure AI is basically OpenAI as a Service"
   ],
   "metadata": {
    "collapsed": false
   },
   "id": "23267deb1cf58497"
  },
  {
   "cell_type": "code",
   "execution_count": null,
   "outputs": [],
   "source": [
    "%%html\n",
    "\n",
    "<iframe width=\"560\" height=\"315\" src=\"https://www.youtube.com/embed/P3MAbZ2eMUI?si=UMXfTuXOmll-oajq\" title=\"YouTube video player\" frameborder=\"0\" allow=\"accelerometer; autoplay; clipboard-write; encrypted-media; gyroscope; picture-in-picture; web-share\" referrerpolicy=\"strict-origin-when-cross-origin\" allowfullscreen></iframe>"
   ],
   "metadata": {
    "collapsed": false
   },
   "id": "dec0d0b431fb8019"
  },
  {
   "cell_type": "markdown",
   "source": [
    "## First we setup and check for needed environment variables and config"
   ],
   "metadata": {
    "collapsed": false
   },
   "id": "c2035b3f02ce852f"
  },
  {
   "cell_type": "code",
   "execution_count": null,
   "outputs": [],
   "source": [
    "import os\n",
    "import dotenv\n",
    "\n",
    "dotenv.load_dotenv()\n",
    "\n",
    "os.environ[\"AZURESEARCH_FIELDS_ID\"] = \"chunk_id\"\n",
    "os.environ[\"AZURESEARCH_FIELDS_CONTENT\"] = \"chunk\"\n",
    "os.environ[\"AZURESEARCH_FIELDS_CONTENT_VECTOR\"] = \"vector\"\n",
    "os.environ[\"AZURESEARCH_FIELDS_TAG\"] = \"metadata\"\n",
    "\n",
    "from langchain_community.vectorstores.azuresearch import AzureSearch\n",
    "from langchain_core.output_parsers import StrOutputParser\n",
    "from langchain_core.prompts import ChatPromptTemplate\n",
    "from langchain_core.runnables import RunnableParallel, RunnablePassthrough\n",
    "from langchain_openai import AzureChatOpenAI, AzureOpenAIEmbeddings\n",
    "\n",
    "if not os.getenv(\"AZURE_OPENAI_ENDPOINT\"):\n",
    "    raise ValueError(\"Please set the environment variable AZURE_OPENAI_ENDPOINT\")\n",
    "\n",
    "if not os.getenv(\"AZURE_OPENAI_API_KEY\"):\n",
    "    raise ValueError(\"Please set the environment variable AZURE_OPENAI_API_KEY\")\n",
    "\n",
    "if not os.getenv(\"AZURE_EMBEDDINGS_DEPLOYMENT\"):\n",
    "    raise ValueError(\"Please set the environment variable AZURE_EMBEDDINGS_DEPLOYMENT\")\n",
    "\n",
    "if not os.getenv(\"AZURE_CHAT_DEPLOYMENT\"):\n",
    "    raise ValueError(\"Please set the environment variable AZURE_CHAT_DEPLOYMENT\")\n",
    "\n",
    "if not os.getenv(\"AZURE_SEARCH_ENDPOINT\"):\n",
    "    raise ValueError(\"Please set the environment variable AZURE_SEARCH_ENDPOINT\")\n",
    "\n",
    "api_version = os.getenv(\"OPENAI_API_VERSION\", \"2023-03-15-preview\")\n"
   ],
   "metadata": {
    "collapsed": false
   },
   "id": "e12f19f67cae732f"
  },
  {
   "cell_type": "markdown",
   "source": [
    "# Data\n",
    "Trenger offentlig data som ikke er scrapet av microsoft!\n",
    "\n",
    "10 tilfeldigvalgte rovdyr tiltak fra https://www.miljovedtak.no/"
   ],
   "metadata": {
    "collapsed": false
   },
   "id": "536d6369fd9f4c5a"
  },
  {
   "cell_type": "code",
   "execution_count": null,
   "outputs": [],
   "source": [
    "query = \"Hva kan du om jerv i snåsa?\"\n",
    "#query = \"Fra hvilken dato er den nyeste informasjone du har tilgjengelig?\"\n",
    "#query = \"Kan du fortelle meg hva miljø direktoratet syns om svensk jerv?\"\n",
    "#query = \"Hvor mange tilak har miljødirektoratet gitt i Lierne de siste månedene og for hvilke arter?\"\n",
    "#query = \"What is the worlds smallest animal?\""
   ],
   "metadata": {
    "collapsed": false
   },
   "id": "c085031cc7661637"
  },
  {
   "cell_type": "code",
   "execution_count": null,
   "outputs": [],
   "source": [
    "_model = AzureChatOpenAI(\n",
    "    azure_deployment=os.environ[\"AZURE_CHAT_DEPLOYMENT\"],\n",
    "    api_version=api_version\n",
    ")"
   ],
   "metadata": {
    "collapsed": false
   },
   "id": "9b242d91bf451245"
  },
  {
   "cell_type": "code",
   "execution_count": null,
   "outputs": [],
   "source": [
    "# RAG prompt\n",
    "rag_template = \"\"\"Answer the question based only on the following context:\n",
    "{context}\n",
    "Question: {question}\n",
    "\n",
    "answer all questions in Norwegian (nynorsk) and specify where you found your information if it is relevant.\n",
    "\n",
    "\"\"\"\n",
    "\n",
    "# Pure LLM prompt\n",
    "llm_template = \"\"\"\n",
    "Question: {question}\n",
    "\n",
    "answer all questions as precisely as possible in Norwegian (nynorsk) and specify where you found your information if it is relevant.\n",
    "\"\"\""
   ],
   "metadata": {
    "collapsed": false
   },
   "id": "ede2d2ce7788afc9"
  },
  {
   "cell_type": "code",
   "execution_count": null,
   "outputs": [],
   "source": [
    "llm_chain = ChatPromptTemplate.from_template(llm_template) | _model | StrOutputParser()\n"
   ],
   "metadata": {
    "collapsed": false
   },
   "id": "7112d1df55a5c899"
  },
  {
   "cell_type": "code",
   "execution_count": null,
   "outputs": [],
   "source": [
    "llm_chain.invoke(query)"
   ],
   "metadata": {
    "collapsed": false
   },
   "id": "dc42cddf97fcc8b0"
  },
  {
   "cell_type": "code",
   "execution_count": null,
   "outputs": [],
   "source": [
    "embeddings = AzureOpenAIEmbeddings(\n",
    "    deployment=os.environ[\"AZURE_EMBEDDINGS_DEPLOYMENT\"],\n",
    "    chunk_size=1,\n",
    ")"
   ],
   "metadata": {
    "collapsed": false
   },
   "id": "bd4920c787e8263a"
  },
  {
   "cell_type": "code",
   "execution_count": null,
   "outputs": [],
   "source": [
    "vector_store: AzureSearch = AzureSearch(\n",
    "    azure_search_endpoint=os.environ[\"AZURE_SEARCH_ENDPOINT\"],\n",
    "    azure_search_key=os.environ[\"AZURE_SEARCH_KEY\"],\n",
    "    index_name=\"kodekveld-mdir-test\", #\"alternative_facts\"\n",
    "    embedding_function=embeddings.embed_query,\n",
    ")\n",
    "\n",
    "retriever = vector_store.as_retriever()"
   ],
   "metadata": {
    "collapsed": false
   },
   "id": "7e53184b381a4ef0"
  },
  {
   "cell_type": "code",
   "execution_count": null,
   "outputs": [],
   "source": [
    "vector_store.as_retriever(k=4).invoke(\"Jerv i snåsa\")"
   ],
   "metadata": {
    "collapsed": false
   },
   "id": "initial_id"
  },
  {
   "cell_type": "code",
   "execution_count": null,
   "outputs": [],
   "source": [
    "rag_chain = (\n",
    "        RunnableParallel({\"context\": retriever, \"question\": RunnablePassthrough()})\n",
    "        | ChatPromptTemplate.from_template(rag_template)\n",
    "        | _model\n",
    "        | StrOutputParser()\n",
    ")"
   ],
   "metadata": {
    "collapsed": false
   },
   "id": "576d8b79502c0be4"
  },
  {
   "cell_type": "code",
   "execution_count": null,
   "outputs": [],
   "source": [
    "rag_chain.invoke(query)"
   ],
   "metadata": {
    "collapsed": false
   },
   "id": "5f2589a523607195"
  },
  {
   "cell_type": "markdown",
   "source": [
    "## Hvor bra er RAG?\n",
    "\n",
    "Forskningen jeg har sett peker på at det øker nøyaktigheten på modellene betydelig, 80-90% avhengig av hvilken modell som er brukt.\n",
    "\n",
    "Men modellen vil fortsatt ta feil i blant, og kan fortsatt halusinere (kilder til svarene er viktig!). Modellene har en sterk bias mot \"intern\" data, så hvis du gir kontekst som motstrider dette vil den som regel velge intern data"
   ],
   "metadata": {
    "collapsed": false
   },
   "id": "b0a36a02af321ea8"
  },
  {
   "cell_type": "code",
   "execution_count": null,
   "outputs": [],
   "source": [
    "from langchain_community.document_loaders import TextLoader\n",
    "from langchain_text_splitters import CharacterTextSplitter\n",
    "\n",
    "loader = TextLoader(\"text-input/true_facts.txt\", encoding=\"utf-8\")\n",
    "\n",
    "documents = loader.load()\n",
    "text_splitter = CharacterTextSplitter(chunk_size=1000, chunk_overlap=0)\n",
    "docs = text_splitter.split_documents(documents)\n",
    "\n",
    "#vector_store.add_documents(documents=docs)"
   ],
   "metadata": {
    "collapsed": false
   },
   "id": "36b657f56daaa97c"
  }
 ],
 "metadata": {
  "kernelspec": {
   "display_name": "Python 3",
   "language": "python",
   "name": "python3"
  },
  "language_info": {
   "codemirror_mode": {
    "name": "ipython",
    "version": 2
   },
   "file_extension": ".py",
   "mimetype": "text/x-python",
   "name": "python",
   "nbconvert_exporter": "python",
   "pygments_lexer": "ipython2",
   "version": "2.7.6"
  }
 },
 "nbformat": 4,
 "nbformat_minor": 5
}
